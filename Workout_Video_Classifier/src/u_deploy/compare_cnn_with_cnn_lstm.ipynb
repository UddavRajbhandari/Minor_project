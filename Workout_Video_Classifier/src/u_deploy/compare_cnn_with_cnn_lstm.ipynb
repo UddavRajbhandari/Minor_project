{
 "cells": [
  {
   "cell_type": "code",
   "execution_count": 5,
   "metadata": {},
   "outputs": [
    {
     "name": "stdout",
     "output_type": "stream",
     "text": [
      "17/17 [==============================] - 0s 9ms/step\n",
      "17/17 [==============================] - 2s 48ms/step\n",
      "Predictions saved to predictions.csv\n"
     ]
    }
   ],
   "source": [
    "import numpy as np\n",
    "import pandas as pd\n",
    "import tensorflow as tf\n",
    "\n",
    "# Load models\n",
    "cnn_model = tf.keras.models.load_model(r\"D:\\minor\\test_k_fold_CNN_landmark\\model_fold_5.keras\")\n",
    "cnn_lstm_model = tf.keras.models.load_model(r\"D:\\minor\\k_fold_CNN_LSTM_landmark\\model_fold_3.keras\")\n",
    "\n",
    "# Load test data\n",
    "X_test = np.load(r\"D:\\minor\\workout_processed_data_landmark\\X.npy\")\n",
    "y_test = np.load(r\"D:\\minor\\workout_processed_data_landmark\\y.npy\")\n",
    "class_mapping = np.load(r\"D:\\minor\\workout_processed_data_landmark\\class_mapping.npy\", allow_pickle=True).item()\n",
    "\n",
    "# Reverse class mapping to {index: class_name}\n",
    "class_mapping_reversed = {v: k for k, v in class_mapping.items()}\n",
    "\n",
    "# Generate predictions\n",
    "cnn_predictions = cnn_model.predict(X_test)\n",
    "cnn_lstm_predictions = cnn_lstm_model.predict(X_test)\n",
    "\n",
    "# Convert probabilities to class labels\n",
    "cnn_predictions_labels = np.argmax(cnn_predictions, axis=1)\n",
    "cnn_lstm_predictions_labels = np.argmax(cnn_lstm_predictions, axis=1)\n",
    "\n",
    "# Debug: Print unmapped labels\n",
    "unmapped_labels = set(np.unique(cnn_predictions_labels)) - set(class_mapping_reversed.keys())\n",
    "if unmapped_labels:\n",
    "    print(\"Warning: Unmapped Labels in CNN Predictions ->\", unmapped_labels)\n",
    "\n",
    "unmapped_labels_lstm = set(np.unique(cnn_lstm_predictions_labels)) - set(class_mapping_reversed.keys())\n",
    "if unmapped_labels_lstm:\n",
    "    print(\"Warning: Unmapped Labels in CNN-LSTM Predictions ->\", unmapped_labels_lstm)\n",
    "\n",
    "# Map predictions to class names safely\n",
    "cnn_predictions_classes = [class_mapping_reversed.get(label, \"Unknown\") for label in cnn_predictions_labels]\n",
    "cnn_lstm_predictions_classes = [class_mapping_reversed.get(label, \"Unknown\") for label in cnn_lstm_predictions_labels]\n",
    "y_test_classes = [class_mapping_reversed.get(label, \"Unknown\") for label in y_test]\n",
    "\n",
    "# Store in DataFrame\n",
    "df = pd.DataFrame({\n",
    "    \"frame\": np.arange(1, len(y_test) + 1),\n",
    "    \"ground_truth\": y_test_classes,\n",
    "    \"cnn_prediction\": cnn_predictions_classes,\n",
    "    \"cnn_lstm_prediction\": cnn_lstm_predictions_classes,\n",
    "    \"cnn_confidence\": cnn_predictions.max(axis=1),\n",
    "    \"cnn_lstm_confidence\": cnn_lstm_predictions.max(axis=1)\n",
    "})\n",
    "\n",
    "# Save to CSV\n",
    "df.to_csv(\"predictions.csv\", index=False)\n",
    "print(\"Predictions saved to predictions.csv\")\n"
   ]
  },
  {
   "cell_type": "code",
   "execution_count": 2,
   "metadata": {},
   "outputs": [
    {
     "name": "stdout",
     "output_type": "stream",
     "text": [
      "Class Mapping Keys: dict_keys(['barbell biceps curl', 'hammer curl', 'lat pulldown', 'lateral raise', 'pull Up', 'push-up', 'shoulder press'])\n",
      "Example CNN Predicted Labels: [0 1 2 3 4 5 6]\n",
      "Example CNN-LSTM Predicted Labels: [0 1 2 3 4 5 6]\n"
     ]
    }
   ],
   "source": [
    "print(\"Class Mapping Keys:\", class_mapping.keys())\n",
    "print(\"Example CNN Predicted Labels:\", np.unique(cnn_predictions_labels))\n",
    "print(\"Example CNN-LSTM Predicted Labels:\", np.unique(cnn_lstm_predictions_labels))\n"
   ]
  },
  {
   "cell_type": "code",
   "execution_count": 3,
   "metadata": {},
   "outputs": [
    {
     "name": "stdout",
     "output_type": "stream",
     "text": [
      "Unmapped Labels: {0, 1, 2, 3, 4, 5, 6}\n"
     ]
    }
   ],
   "source": [
    "unmapped_labels = set(np.unique(cnn_predictions_labels)) - set(class_mapping.keys())\n",
    "print(\"Unmapped Labels:\", unmapped_labels)\n"
   ]
  },
  {
   "cell_type": "code",
   "execution_count": 4,
   "metadata": {},
   "outputs": [],
   "source": [
    "cnn_predictions_classes = [class_mapping.get(label, \"Unknown\") for label in cnn_predictions_labels]\n",
    "cnn_lstm_predictions_classes = [class_mapping.get(label, \"Unknown\") for label in cnn_lstm_predictions_labels]\n",
    "y_test_classes = [class_mapping.get(label, \"Unknown\") for label in y_test]\n"
   ]
  },
  {
   "cell_type": "code",
   "execution_count": null,
   "metadata": {},
   "outputs": [],
   "source": []
  }
 ],
 "metadata": {
  "kernelspec": {
   "display_name": "Python 3",
   "language": "python",
   "name": "python3"
  },
  "language_info": {
   "codemirror_mode": {
    "name": "ipython",
    "version": 3
   },
   "file_extension": ".py",
   "mimetype": "text/x-python",
   "name": "python",
   "nbconvert_exporter": "python",
   "pygments_lexer": "ipython3",
   "version": "3.8.10"
  }
 },
 "nbformat": 4,
 "nbformat_minor": 2
}
